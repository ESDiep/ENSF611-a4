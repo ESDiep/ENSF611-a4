{
 "cells": [
  {
   "cell_type": "markdown",
   "id": "92778525",
   "metadata": {},
   "source": [
    "# Assignment 4: Pipelines and Hyperparameter Tuning (32 total marks)\n",
    "### Due: November 22 at 11:59pm\n",
    "\n",
    "### Name: Sieu Eric Diep"
   ]
  },
  {
   "cell_type": "markdown",
   "id": "ce31b39a",
   "metadata": {},
   "source": [
    "### In this assignment, you will be putting together everything you have learned so far. You will need to find your own dataset, do all the appropriate preprocessing, test different supervised learning models and evaluate the results. More details for each step can be found below.\n",
    "\n",
    "### You will also be asked to describe the process by which you came up with the code. More details can be found below. Please cite any websites or AI tools that you used to help you with this assignment."
   ]
  },
  {
   "cell_type": "markdown",
   "id": "cf275ca7",
   "metadata": {},
   "source": [
    "## Import Libraries"
   ]
  },
  {
   "cell_type": "code",
   "execution_count": 57,
   "id": "2b67a661",
   "metadata": {},
   "outputs": [],
   "source": [
    "import numpy as np\n",
    "import pandas as pd\n",
    "import matplotlib.pyplot as plt\n",
    "import seaborn as sns\n",
    "from sklearn.model_selection import train_test_split, GridSearchCV, cross_val_score\n",
    "from sklearn.preprocessing import StandardScaler, LabelEncoder\n",
    "from sklearn.pipeline import Pipeline\n",
    "from sklearn.ensemble import RandomForestRegressor\n",
    "from sklearn.linear_model import Ridge\n",
    "from sklearn.svm import SVR\n",
    "from sklearn.metrics import make_scorer, accuracy_score, f1_score"
   ]
  },
  {
   "cell_type": "markdown",
   "id": "8219f163",
   "metadata": {},
   "source": [
    "## Step 1: Data Input (4 marks)\n",
    "\n",
    "Import the dataset you will be using. You can download the dataset onto your computer and read it in using pandas, or download it directly from the website. Answer the questions below about the dataset you selected. \n",
    "\n",
    "To find a dataset, you can use the resources listed in the notes. The dataset can be numerical, categorical, text-based or mixed. If you want help finding a particular dataset related to your interests, please email the instructor.\n",
    "\n",
    "**You cannot use a dataset that was used for a previous assignment or in class**"
   ]
  },
  {
   "cell_type": "code",
   "execution_count": 58,
   "id": "2af8bd32",
   "metadata": {},
   "outputs": [],
   "source": [
    "# Import dataset (1 mark)\n",
    "df = pd.read_csv('Mall_customers.csv')"
   ]
  },
  {
   "cell_type": "markdown",
   "id": "20316765",
   "metadata": {},
   "source": [
    "### Questions (3 marks)\n",
    "\n",
    "1. (1 mark) What is the source of your dataset?\n",
    "1. (1 mark) Why did you pick this particular dataset?\n",
    "1. (1 mark) Was there anything challenging about finding a dataset that you wanted to use?\n",
    "\n",
    "*ANSWER HERE*\n",
    "1. The data set is found both on kaggle and UCI machine learning site.\n",
    "2. I pick this data because I found it is interesting to predict how likely a person is going to spend in a mall. The data is also simple and has a good mix of categorical data (gender) and numeric data.\n",
    "3. I found it is difficult to find a good data set that meets the requirement of the assignment and is actually meaningful/interesting. More often, I ran into data that is interesting, but way too complex for cleaning. Or clean data that is boring. "
   ]
  },
  {
   "cell_type": "markdown",
   "id": "42fea4cc",
   "metadata": {},
   "source": [
    "## Step 2: Data Processing (5 marks)\n",
    "\n",
    "The next step is to process your data. Implement the following steps as needed."
   ]
  },
  {
   "cell_type": "code",
   "execution_count": 59,
   "id": "afc244d4",
   "metadata": {},
   "outputs": [
    {
     "name": "stdout",
     "output_type": "stream",
     "text": [
      "Shape of the data:  (200, 5)\n",
      "A sample of the data: \n",
      "   CustomerID   Genre  Age  Annual Income (k$)  Spending Score (1-100)\n",
      "0           1    Male   19                  15                      39\n",
      "1           2    Male   21                  15                      81\n",
      "2           3  Female   20                  16                       6\n",
      "3           4  Female   23                  16                      77\n",
      "4           5  Female   31                  17                      40\n",
      "\n",
      "After dropping CustomerID columns: \n",
      "    Genre  Age  Annual Income (k$)  Spending Score (1-100)\n",
      "0    Male   19                  15                      39\n",
      "1    Male   21                  15                      81\n",
      "2  Female   20                  16                       6\n",
      "3  Female   23                  16                      77\n",
      "4  Female   31                  17                      40\n",
      "Data types: \n",
      "Genre                     object\n",
      "Age                        int64\n",
      "Annual Income (k$)         int64\n",
      "Spending Score (1-100)     int64\n",
      "dtype: object\n",
      "\n",
      "Missing value: \n",
      "Genre                     0\n",
      "Age                       0\n",
      "Annual Income (k$)        0\n",
      "Spending Score (1-100)    0\n",
      "dtype: int64\n"
     ]
    }
   ],
   "source": [
    "# Clean data (if needed)\n",
    "print(\"Shape of the data: \", df.shape)\n",
    "print(\"A sample of the data: \")\n",
    "print(df.head())\n",
    "\n",
    "#since customerID is not a \"real\" feature that is meaningful to the spending score.\n",
    "#it is dropped out of the data\n",
    "print(\"\\nAfter dropping CustomerID columns: \")\n",
    "data = df.drop(columns=['CustomerID'])\n",
    "print(data.head())\n",
    "print(\"Data types: \")\n",
    "print(data.dtypes)\n",
    "\n",
    "#Checking for missing value:\n",
    "print(\"\\nMissing value: \")\n",
    "print(data.isnull().sum())"
   ]
  },
  {
   "cell_type": "code",
   "execution_count": null,
   "id": "eef0436f",
   "metadata": {},
   "outputs": [],
   "source": []
  },
  {
   "cell_type": "code",
   "execution_count": 60,
   "id": "70a8c127",
   "metadata": {},
   "outputs": [],
   "source": [
    "# Implement preprocessing steps. Remember to use ColumnTransformer if more than one preprocessing method is needed"
   ]
  },
  {
   "cell_type": "code",
   "execution_count": 61,
   "id": "366589f4",
   "metadata": {},
   "outputs": [
    {
     "name": "stdout",
     "output_type": "stream",
     "text": [
      "     Age  Annual Income (k$)  Spending Score (1-100)  Genre_Male\n",
      "0     19                  15                      39           1\n",
      "1     21                  15                      81           1\n",
      "2     20                  16                       6           0\n",
      "3     23                  16                      77           0\n",
      "4     31                  17                      40           0\n",
      "..   ...                 ...                     ...         ...\n",
      "195   35                 120                      79           0\n",
      "196   45                 126                      28           0\n",
      "197   32                 126                      74           1\n",
      "198   32                 137                      18           1\n",
      "199   30                 137                      83           1\n",
      "\n",
      "[200 rows x 4 columns]\n"
     ]
    },
    {
     "data": {
      "image/png": "[encoded data removed]",
      "text/plain": [
       "<Figure size 640x480 with 2 Axes>"
      ]
     },
     "metadata": {},
     "output_type": "display_data"
    }
   ],
   "source": [
    "data = pd.get_dummies(data, columns=['Genre'],drop_first=True, dtype='int')\n",
    "print(data)\n",
    "sns.heatmap(data.corr(), annot=True, cmap='coolwarm')\n",
    "plt.title('Correlation Heatmap')\n",
    "plt.show()\n",
    "\n",
    "#from sklearn.compose import ColumnTransformer\n",
    "#from sklearn.preprocessing import StandardScaler, OneHotEncoder\n",
    "#ct = ColumnTransformer([(\"scaling\", StandardScaler(),['Age', 'Annual Income (k$)', 'Spending Score (1-100)']),\n",
    " #                      ('onehot', OneHotEncoder(sparse_output=False), ['Genre'])])"
   ]
  },
  {
   "cell_type": "code",
   "execution_count": 62,
   "id": "8897ed05",
   "metadata": {},
   "outputs": [
    {
     "name": "stderr",
     "output_type": "stream",
     "text": [
      "C:\\Users\\EricDiep\\anaconda3\\envs\\ensf-ml\\lib\\site-packages\\seaborn\\axisgrid.py:118: UserWarning: The figure layout has changed to tight\n",
      "  self._figure.tight_layout(*args, **kwargs)\n",
      "C:\\Users\\EricDiep\\anaconda3\\envs\\ensf-ml\\lib\\site-packages\\seaborn\\axisgrid.py:118: UserWarning: The figure layout has changed to tight\n",
      "  self._figure.tight_layout(*args, **kwargs)\n",
      "C:\\Users\\EricDiep\\anaconda3\\envs\\ensf-ml\\lib\\site-packages\\seaborn\\axisgrid.py:118: UserWarning: The figure layout has changed to tight\n",
      "  self._figure.tight_layout(*args, **kwargs)\n"
     ]
    },
    {
     "data": {
      "text/plain": [
       "<seaborn.axisgrid.FacetGrid at 0x1d8af9e4d00>"
      ]
     },
     "execution_count": 62,
     "metadata": {},
     "output_type": "execute_result"
    },
    {
     "data": {
      "image/png": "[encoded data removed]",
      "text/plain": [
       "<Figure size 500x500 with 1 Axes>"
      ]
     },
     "metadata": {},
     "output_type": "display_data"
    },
    {
     "data": {
      "image/png": "[encoded data removed]",
      "text/plain": [
       "<Figure size 500x500 with 1 Axes>"
      ]
     },
     "metadata": {},
     "output_type": "display_data"
    },
    {
     "data": {
      "image/png": "[encoded data removed]",
      "text/plain": [
       "<Figure size 500x500 with 1 Axes>"
      ]
     },
     "metadata": {},
     "output_type": "display_data"
    }
   ],
   "source": [
    "sns.displot(data['Spending Score (1-100)'])\n",
    "sns.displot(data['Age'])\n",
    "sns.displot(data['Genre_Male'])"
   ]
  },
  {
   "cell_type": "markdown",
   "id": "b92c46b7",
   "metadata": {},
   "source": [
    "### Questions (2 marks)\n",
    "\n",
    "1. (1 mark) Were there any missing/null values in your dataset? If yes, how did you replace them and why? If no, describe how you would've replaced them and why.\n",
    "2. (1 mark) What type of data do you have? What preprocessing methods would you have to apply based on your data types?\n",
    "\n",
    "*ANSWER HERE*\n",
    "1. There were no missing value in the data. The whole records (rows) would be dropped if any value (even one cell) is missing because the data in each columns is not completely unrelated to each other. And there's no way to estimate the missing value that is \"meaninful\" to the target vector.\n",
    "\n",
    "2. 3 columns is numeric, and one column is categorical representing gender. One hot encoding is used for this gender column. Standard scaling is also used although it may not be required. Note that columns transformer is not used because the encoder is used separately first to draw the correlation map above. The column transformer command is comment out int the code above"
   ]
  },
  {
   "cell_type": "markdown",
   "id": "2a245d00",
   "metadata": {},
   "source": [
    "## Step 3: Implement Machine Learning Model (11 marks)\n",
    "\n",
    "In this section, you will implement three different supervised learning models (one linear and two non-linear) of your choice. You will use a pipeline to help you decide which model and hyperparameters work best. It is up to you to select what models to use and what hyperparameters to test. You can use the class examples for guidance. You must print out the best model parameters and results after the grid search."
   ]
  },
  {
   "cell_type": "code",
   "execution_count": 66,
   "id": "5558a776",
   "metadata": {},
   "outputs": [
    {
     "name": "stdout",
     "output_type": "stream",
     "text": [
      "   Age  Annual Income (k$)  Genre_Male\n",
      "0   19                  15           1\n",
      "1   21                  15           1\n",
      "2   20                  16           0\n",
      "3   23                  16           0\n",
      "4   31                  17           0\n",
      "X data types Age                   int64\n",
      "Annual Income (k$)    int64\n",
      "Genre_Male            int32\n",
      "dtype: object\n",
      "0    39\n",
      "1    81\n",
      "2     6\n",
      "3    77\n",
      "4    40\n",
      "Name: Spending Score (1-100), dtype: int64\n",
      "y data type int64\n"
     ]
    }
   ],
   "source": [
    "# Implement pipeline and grid search here. Can add more code blocks if necessary\n",
    "\n",
    "# Define 'X' and 'y'\n",
    "X = data.drop(columns=['Spending Score (1-100)'])  # 'X' contains all features except 'Spending Score\n",
    "y = data['Spending Score (1-100)']  # 'y' contains the 'Spending Score' column\n",
    "\n",
    "X_train, X_test, y_train, y_test = train_test_split(X,y)\n",
    "\n",
    "print(X.head())\n",
    "print('X data types', X.dtypes)\n",
    "print(y.head())\n",
    "print('y data type', y.dtypes)\n",
    "\n",
    "# Ridge Regression Pipeline\n",
    "ridge_pipeline = Pipeline([\n",
    "    ('scaler', StandardScaler()),\n",
    "    ('ridge', Ridge())\n",
    "])\n",
    "\n",
    "# Random Forest Pipeline\n",
    "rf_pipeline = Pipeline([\n",
    "    ('scaler', StandardScaler()),\n",
    "    ('rf', RandomForestRegressor())\n",
    "])\n",
    "\n",
    "# SVM Pipeline\n",
    "svm_pipeline = Pipeline([\n",
    "    ('scaler', StandardScaler()),\n",
    "    ('svm', SVR())\n",
    "])\n",
    "\n",
    "\n",
    "# Define parameter grids\n",
    "param_grid_rf = {\n",
    "    'rf__n_estimators': [100, 200, 300, 400],\n",
    "    'rf__max_depth': [5, 10, 15, 20, 30]\n",
    "}\n",
    "\n",
    "param_grid_ridge = {\n",
    "    'ridge__alpha': [0.01, 0.1, 1, 10, 100],    \n",
    "    'ridge__solver': ['cholesky', 'saga']  \n",
    "}\n",
    "\n",
    "param_grid_svm = {\n",
    "    'svm__C': [0.01 ,0.1, 1, 10, 100],\n",
    "    'svm__kernel': ['linear', 'rbf']\n",
    "}\n",
    "\n",
    "# Create GridSearchCV instances for each algorithm with multiple scoring metrics\n",
    "grid_search_rf = GridSearchCV(rf_pipeline, param_grid_rf, cv=5, scoring = 'r2')\n",
    "grid_search_ridge = GridSearchCV(ridge_pipeline, param_grid_ridge, cv=5, scoring = 'r2')\n",
    "grid_search_svm = GridSearchCV(svm_pipeline, param_grid_svm, cv=5, scoring = 'r2')\n",
    "\n",
    "# Fit the models\n",
    "grid_search_rf.fit(X_train, y_train)\n",
    "grid_search_ridge.fit(X_train, y_train)\n",
    "grid_search_svm.fit(X_train, y_train)\n",
    "\n",
    "# Get the best parameters based on F1\n",
    "best_params_rf = grid_search_rf.best_params_\n",
    "best_params_ridge = grid_search_ridge.best_params_\n",
    "best_params_svm = grid_search_svm.best_params_\n",
    "\n",
    "# Access the results for both scoring metrics\n",
    "results_rf = grid_search_rf.cv_results_\n",
    "results_ridge = grid_search_ridge.cv_results_\n",
    "results_svm = grid_search_svm.cv_results_\n",
    "\n",
    "\n"
   ]
  },
  {
   "cell_type": "code",
   "execution_count": 67,
   "id": "d9635fc1",
   "metadata": {},
   "outputs": [
    {
     "name": "stdout",
     "output_type": "stream",
     "text": [
      "Random Forest Results:\n",
      "Best score:  0.25511355634019617\n",
      "Best Parameters for Random Forest: {'rf__max_depth': 5, 'rf__n_estimators': 200}\n",
      "\n",
      "Ridge Regression Results:\n",
      "Best score:  0.06846824572235681\n",
      "Best Parameters for Ridge Regression: {'ridge__alpha': 10, 'ridge__solver': 'cholesky'}\n",
      "\n",
      "SVM Results:\n",
      "Best score:  0.19385552354574184\n",
      "Best Parameters for SVM: {'svm__C': 100, 'svm__kernel': 'rbf'}\n"
     ]
    }
   ],
   "source": [
    "# Print the results for accuracy and F1\n",
    "print(\"Random Forest Results:\")\n",
    "print('Best score: ', grid_search_rf.best_score_)\n",
    "print(\"Best Parameters for Random Forest:\", best_params_rf)\n",
    "\n",
    "print(\"\\nRidge Regression Results:\")\n",
    "print('Best score: ', grid_search_ridge.best_score_)\n",
    "print(\"Best Parameters for Ridge Regression:\", best_params_ridge)\n",
    "\n",
    "print(\"\\nSVM Results:\")\n",
    "print('Best score: ', grid_search_svm.best_score_)\n",
    "print(\"Best Parameters for SVM:\", best_params_svm)"
   ]
  },
  {
   "cell_type": "markdown",
   "id": "3dbd7075",
   "metadata": {},
   "source": [
    "### Questions (5 marks)\n",
    "\n",
    "1. (1 mark) Do you need regression or classification models for your dataset?\n",
    "1. (2 marks) Which models did you select for testing and why?\n",
    "1. (2 marks) Which model worked the best? Does this make sense based on the theory discussed in the course and the context of your dataset?\n",
    "\n",
    "*ANSWER HERE*\n",
    "1. Regression is performed in this data set as spending score is a continuous value\n",
    "2. A linear model is chosen to start with for its simplicity. Since linear regression doesn't have much parameter to tune with. Ridge is chosen so alpha can be tuned. Then, the model chosen is increasing in complexity, thus random forest and SVR are picked. Note that these model do have hyperparameters to perform a grid operation on.\n",
    "3. Random forest model work the best although its score is still very low at 0.26. \n",
    "It makes sense that Ridge has the lowest score at 0.07 since this dataset only has 3 features (age, gender and income) and Ridge would bring all the features close to 0. There is simply too few feature for Ridge. Also, the data simply doens't work with Linear model.\n",
    "\n",
    "SVM performs a bit better at 0.19. The more complexity of the model explains for the better performance when comparing to Ridge.\n",
    "\n",
    "\n"
   ]
  },
  {
   "cell_type": "markdown",
   "id": "3f994e31",
   "metadata": {},
   "source": [
    "## Step 4: Validate Model (6 marks)\n",
    "\n",
    "Use the testing set to calculate the testing accuracy for the best model determined in Step 3."
   ]
  },
  {
   "cell_type": "code",
   "execution_count": 70,
   "id": "69e64c08",
   "metadata": {},
   "outputs": [
    {
     "name": "stdout",
     "output_type": "stream",
     "text": [
      "Random Forest Results:\n",
      "Training score:  0.25511355634019617\n",
      "Testing Score:  0.28767989000412764\n",
      "\n",
      "Ridge Regression Results:\n",
      "Training score:  0.06846824572235681\n",
      "Testing Score:  0.11483855369856544\n",
      "\n",
      "SVM Results:\n",
      "Training score:  0.19385552354574184\n",
      "Testing Score:  0.3263301681306471\n"
     ]
    }
   ],
   "source": [
    "# Calculate testing accuracy (1 mark)\n",
    "print(\"Random Forest Results:\")\n",
    "print('Training score: ', grid_search_rf.best_score_)\n",
    "print(\"Testing Score: \", grid_search_rf.score(X_test, y_test))\n",
    "\n",
    "\n",
    "\n",
    "print(\"\\nRidge Regression Results:\")\n",
    "print('Training score: ', grid_search_ridge.best_score_)\n",
    "print(\"Testing Score: \", grid_search_ridge.score(X_test, y_test))\n",
    "\n",
    "print(\"\\nSVM Results:\")\n",
    "print('Training score: ', grid_search_svm.best_score_)\n",
    "print(\"Testing Score: \", grid_search_svm.score(X_test, y_test))"
   ]
  },
  {
   "cell_type": "markdown",
   "id": "1e4529ba",
   "metadata": {},
   "source": [
    "\n",
    "### Questions (5 marks)\n",
    "\n",
    "1. (1 mark) Which accuracy metric did you choose? \n",
    "1. (1 mark) How do these results compare to those in part 3? Did this model generalize well?\n",
    "1. (3 marks) Based on your results and the context of your dataset, did the best model perform \"well enough\" to be used out in the real-world? Why or why not? Do you have any suggestions for how you could improve this analysis?\n",
    "\n",
    "*ANSWER HERE*\n",
    "1. R2 score is chosen.\n",
    "2. The testing score is higher than the best training score in three models. As discussed in class, training score should be higher than the testing score usually. So this is a very strange case, that the models do not generalize well.\n",
    "3. The models chosen performed super poor to be used. It is possible that the dataset simply doesnot work with these models. Different models such as k-neibor can be explored to see if they can give better results. Note that there are only three features and 200 records in the dataset, perhap more features and more data will help, but note that collecting more data features can be an expensive and difficult task. Finally, there may be other scaling and preprocessing methods that would improve the results although less likely due to the limit number of features and records available."
   ]
  },
  {
   "cell_type": "markdown",
   "id": "37b238f4",
   "metadata": {},
   "source": [
    "## Process Description (4 marks)\n",
    "Please describe the process you used to create your code. Cite any websites or generative AI tools used. You can use the following questions as guidance:\n",
    "1. Where did you source your code?\n",
    "1. In what order did you complete the steps?\n",
    "1. If you used generative AI, what prompts did you use? Did you need to modify the code at all? Why or why not?\n",
    "1. Did you have any challenges? If yes, what were they? If not, what helped you to be successful?"
   ]
  },
  {
   "cell_type": "markdown",
   "id": "93097bfe",
   "metadata": {},
   "source": [
    "*DESCRIBE YOUR PROCESS HERE*\n",
    "1.The code is sourced mostly from lab#6 (classification) with modification found from googling and chatGPT in order to make it work for regression. \n",
    "2. I follow the order in the Machine Leanring Workflow. Loading data, inspect and cleaning data, split the data into train and test, set up the grid and its parameter, load the model and instantiate the ML model,  validate the model.\n",
    "3. The AI prompt used was \"please provide an example of ridge regression using pipeline and gridsearch, parameter grid\". Modification of the AI code is needed because it is not exactly in the format that I need but it gives me a direction and idea about how things work\n",
    "4. I found it difficult to find a good dataset that I like and meet the requirement of the assigment. I found it helpful talking to my peers, and after reading many articles online.\n"
   ]
  },
  {
   "cell_type": "markdown",
   "id": "cd97b6ac",
   "metadata": {},
   "source": [
    "## Reflection (2 marks)\n",
    "Include a sentence or two about:\n",
    "- what you liked or disliked,\n",
    "- found interesting, confusing, challenging, motivating\n",
    "while working on this assignment.\n",
    "\n",
    "\n",
    "*ADD YOUR THOUGHTS HERE*\n",
    "I didn't like the data searching part. It was quite tedious. The grid parameters part is confusing as different models require different parameter. But it is a good assignment to read through the documenatation to have a good undestanding. Also, the result is very strange that the testing score is higher than the training score. It's challenging to find out why. "
   ]
  },
  {
   "cell_type": "code",
   "execution_count": null,
   "id": "241c3b12",
   "metadata": {},
   "outputs": [],
   "source": []
  },
  {
   "cell_type": "code",
   "execution_count": null,
   "id": "4575e175",
   "metadata": {},
   "outputs": [],
   "source": []
  }
 ],
 "metadata": {
  "kernelspec": {
   "display_name": "Python 3 (ipykernel)",
   "language": "python",
   "name": "python3"
  },
  "language_info": {
   "codemirror_mode": {
    "name": "ipython",
    "version": 3
   },
   "file_extension": ".py",
   "mimetype": "text/x-python",
   "name": "python",
   "nbconvert_exporter": "python",
   "pygments_lexer": "ipython3",
   "version": "3.8.18"
  }
 },
 "nbformat": 4,
 "nbformat_minor": 5
}
